{
 "cells": [
  {
   "cell_type": "markdown",
   "id": "e0c81d07-58af-4a98-9f09-0d900c68aec8",
   "metadata": {},
   "source": [
    "\n",
    "\n",
    "# Fig 3 options\n",
    "\n",
    "1. balls per age group (same info as Fig 2b)\n",
    "2. something separating urban vs. rural\n",
    "3. CDF or similar showing most/least affected\n",
    "4. WBGTi in T,qs space\n",
    "5. Conceptual figure on distributions changing in a specific spot (get eCDF from models and theoretical distr from reanalysis and cfr with reanalysis 10 years distribution changing in space - for a given month)"
   ]
  },
  {
   "cell_type": "code",
   "execution_count": null,
   "id": "195bb65a-fc99-4622-9290-9d33a3db6d30",
   "metadata": {},
   "outputs": [],
   "source": []
  }
 ],
 "metadata": {
  "kernelspec": {
   "display_name": "Python 3",
   "language": "python",
   "name": "python3"
  },
  "language_info": {
   "codemirror_mode": {
    "name": "ipython",
    "version": 3
   },
   "file_extension": ".py",
   "mimetype": "text/x-python",
   "name": "python",
   "nbconvert_exporter": "python",
   "pygments_lexer": "ipython3",
   "version": "3.11.3"
  }
 },
 "nbformat": 4,
 "nbformat_minor": 5
}
